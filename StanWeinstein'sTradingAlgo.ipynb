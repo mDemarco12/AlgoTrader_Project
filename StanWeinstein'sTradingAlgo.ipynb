{
 "cells": [
  {
   "cell_type": "code",
   "execution_count": 1,
   "id": "4dfaed10-6946-4f63-b412-37e9be5bc7bc",
   "metadata": {
    "tags": []
   },
   "outputs": [],
   "source": [
    "\n",
    "import yfinance as yf\n",
    "import pandas as pd\n",
    "import numpy as np\n",
    "import matplotlib.pyplot as plt"
   ]
  },
  {
   "cell_type": "code",
   "execution_count": 4,
   "id": "e9963dd0-3e94-4b61-be5e-5b334ab8fe9d",
   "metadata": {
    "tags": []
   },
   "outputs": [
    {
     "ename": "AttributeError",
     "evalue": "'function' object has no attribute 'symbol'",
     "output_type": "error",
     "traceback": [
      "\u001b[0;31m---------------------------------------------------------------------------\u001b[0m",
      "\u001b[0;31mAttributeError\u001b[0m                            Traceback (most recent call last)",
      "Cell \u001b[0;32mIn[4], line 10\u001b[0m\n\u001b[1;32m      1\u001b[0m \u001b[38;5;66;03m#Phase1:30week MA, Price above 30WMA go long, below go short\u001b[39;00m\n\u001b[1;32m      2\u001b[0m \u001b[38;5;66;03m#Phase2:Break of Consolidation , can enter during retraction, but risky\u001b[39;00m\n\u001b[1;32m      3\u001b[0m \u001b[38;5;66;03m#Phase2.1:The Break of the 30WMA\u001b[39;00m\n\u001b[0;32m   (...)\u001b[0m\n\u001b[1;32m      7\u001b[0m \u001b[38;5;66;03m##@version=5\u001b[39;00m\n\u001b[1;32m      8\u001b[0m \u001b[38;5;66;03m##Relative Strength\u001b[39;00m\n\u001b[0;32m---> 10\u001b[0m comparativeTickerId \u001b[38;5;241m=\u001b[39m \u001b[38;5;28minput\u001b[39m\u001b[38;5;241m.\u001b[39msymbol(\u001b[38;5;124m\"\u001b[39m\u001b[38;5;124mSPY\u001b[39m\u001b[38;5;124m\"\u001b[39m, title\u001b[38;5;241m=\u001b[39m\u001b[38;5;124m\"\u001b[39m\u001b[38;5;124mComparative Symbol\u001b[39m\u001b[38;5;124m\"\u001b[39m) \n\u001b[1;32m     11\u001b[0m l \u001b[38;5;241m=\u001b[39m \u001b[38;5;28minput\u001b[39m\u001b[38;5;241m.\u001b[39mint(\u001b[38;5;241m50\u001b[39m, minval\u001b[38;5;241m=\u001b[39m\u001b[38;5;241m1\u001b[39m, title\u001b[38;5;241m=\u001b[39m\u001b[38;5;124m\"\u001b[39m\u001b[38;5;124mPeriod\u001b[39m\u001b[38;5;124m\"\u001b[39m)\n\u001b[1;32m     12\u001b[0m baseSymbol \u001b[38;5;241m=\u001b[39m request\u001b[38;5;241m.\u001b[39msecurity(syminfo\u001b[38;5;241m.\u001b[39mtickerid, timeframe\u001b[38;5;241m.\u001b[39mperiod, close) \n",
      "\u001b[0;31mAttributeError\u001b[0m: 'function' object has no attribute 'symbol'"
     ]
    }
   ],
   "source": [
    "#Phase1:30week MA, Price above 30WMA go long, below go short\n",
    "#Phase2:Break of Consolidation , can enter during retraction, but risky\n",
    "#Phase2.1:The Break of the 30WMA\n",
    "#Phase3:High Volume\n",
    "#Phase4:Relative Strength >0\n",
    "\n",
    "##@version=5\n",
    "##Relative Strength\n",
    "\n",
    "comparativeTickerId = input.symbol(\"SPY\", title=\"Comparative Symbol\") \n",
    "l = input.int(50, minval=1, title=\"Period\")\n",
    "baseSymbol = request.security(syminfo.tickerid, timeframe.period, close) \n",
    "comparativeSymbol = request.security(comparativeTickerId, timeframe.period, close) \n",
    "hline(0, color=color.black, linestyle=hline.style_dotted)\n",
    "res = baseSymbol / baseSymbol[l] /(comparativeSymbol / comparativeSymbol[l]) - 1 \n",
    "plot(res, title=\"RS\", color=\"1155CC\")\n",
    "\n",
    "#volume ma\n",
    "vol1 = ta.sma(volume,5) ## 30 week ma\n",
    "sma1 = ta.sma(close, 30) ##consolidation\n",
    "h1 = ta.highest(high[1],52) ## trade conditions\n",
    "if close>sma1 and res>0 and volume>vol1 and close>h1:\n",
    "    strategy.entry(\"long\",strategy.long)\n",
    "if close<sma1:\n",
    "    strategy.close(\"long\")\n",
    "\n"
   ]
  },
  {
   "cell_type": "code",
   "execution_count": null,
   "id": "19c70f21-0b46-4dc4-810c-dbffb75e9fc8",
   "metadata": {},
   "outputs": [],
   "source": []
  }
 ],
 "metadata": {
  "kernelspec": {
   "display_name": "Python 3 (ipykernel)",
   "language": "python",
   "name": "python3"
  },
  "language_info": {
   "codemirror_mode": {
    "name": "ipython",
    "version": 3
   },
   "file_extension": ".py",
   "mimetype": "text/x-python",
   "name": "python",
   "nbconvert_exporter": "python",
   "pygments_lexer": "ipython3",
   "version": "3.11.5"
  }
 },
 "nbformat": 4,
 "nbformat_minor": 5
}
