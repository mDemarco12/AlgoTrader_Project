{
 "cells": [
  {
   "cell_type": "code",
   "execution_count": 15,
   "id": "132d0bd8-e442-486b-8502-2e7d097043a3",
   "metadata": {},
   "outputs": [
    {
     "ename": "IndentationError",
     "evalue": "unindent does not match any outer indentation level (<tokenize>, line 11)",
     "output_type": "error",
     "traceback": [
      "\u001b[0;36m  File \u001b[0;32m<tokenize>:11\u001b[0;36m\u001b[0m\n\u001b[0;31m    def __init__(self,symbol,SMA_S,SMA_L,start,end):\u001b[0m\n\u001b[0m    ^\u001b[0m\n\u001b[0;31mIndentationError\u001b[0m\u001b[0;31m:\u001b[0m unindent does not match any outer indentation level\n"
     ]
    }
   ],
   "source": [
    "import yfinance as yf\n",
    "import pandas as pd\n",
    "import numpy as np\n",
    "import matplotlib.pyplot as plt\n",
    "import backtrader as bt\n",
    "\n",
    "class SMABacktester():\n",
    "    def __init__(self,symbol,SMA_S,SMA_L,start,end):\n",
    "        self.symbol=symbol\n",
    "        self.SMA_S=SMA_S\n",
    "        self.SMA_L=SMA_L\n",
    "        self.start=start\n",
    "        self.end=end\n",
    "        self.results=None\n",
    "        self.get_data()\n",
    "        \n",
    "    def get_data(self):\n",
    "        df = yf.download(self.symbol,start=self.start,end=self.end)\n",
    "        data= df.Close.to_frame()\n",
    "        data[\"Returns\"]=np.log(data.Close.div(data.Close.shift(1)))\n",
    "        data[\"SMA_S\"]=data.Close.rolling(int(self.SMA_S)).mean()\n",
    "        data[\"SMA_L\"]=data.Close.rolling(int(self.SMA_L)).mean()\n",
    "        data.dropna(inplace=True)\n",
    "        self.data2=data\n",
    "        \n",
    "        return data\n",
    "    \n",
    "    def test_results(self):\n",
    "        data=self.data2.copy().dropna()\n",
    "        data[\"Position\"]=np.where(data[\"SMA_S\"]>data[\"SMA_L\"],1,-1)\n",
    "        data[\"Strategy\"]=data[\"Returns\"]*data.Position.shift(1)\n",
    "        data.dropna(inplace=True)\n",
    "        data[\"Returnsbh\"]=data[\"Returns\"].cumsum().apply(np.exp)\n",
    "        data[\"ReturnsStrategy\"]=data[\"Strategy\"].cumsum().apply(np.exp)\n",
    "        perf=data[\"ReturnsStrategy\"].iloc[-1]\n",
    "        outperf=perf-data[\"Returnsbh\"].iloc[-1]\n",
    "        self.results=data\n",
    "        \n",
    "        ret=np.exp(data[\"Strategy\"].sum())\n",
    "        std=data[\"Strategy\"].std()*np.sqrt(252)\n",
    "        #return ret,std\n",
    "            \n",
    "        return round(perf,6), round(outperf,6)\n",
    "    \n",
    "    def plot_results(self):\n",
    "        if self.results is None:\n",
    "            print(\"Run the test please:)\")\n",
    "        else:\n",
    "            title=\"{} SMA_S={} | SMA_L={}\".format(self.symbol,self.SMA_S,self.SMA_L)\n",
    "            self.results[[\"Returnsbh\",\"ReturnsStrategy\"]].plot(title=title, figsize=(12,8))\n",
    "            \n",
    "class compare_stocks():\n",
    "    def __init__(self,self2,self3,start,end):\n",
    "        self.symbol=symbol\n",
    "        self.symbol2=symbol2\n",
    "        self.symbol3=symbol3\n",
    "        self.start=start\n",
    "        self.end=end\n",
    "        self.results=None\n",
    "        self.get_data()\n",
    "    \n",
    "     def get_data(self):\n",
    "        df = yf.download(self.symbol,self.symbol2,self.symbol3,start=self.start,end=self.end)\n",
    "        data= df.Close.to_frame()\n",
    "        data[\"Returns\"]=np.log(data.Close.div(data.Close.shift(1)))\n",
    "        data[\"SMA_S\"]=data.Close.rolling(int(self.SMA_S)).mean()\n",
    "        data[\"SMA_L\"]=data.Close.rolling(int(self.SMA_L)).mean()\n",
    "        data.dropna(inplace=True)\n",
    "        self.data2=data\n",
    "            \n",
    "    \n",
    "    def compare_stocks(self,self2,self3):\n",
    "        ticker = [self.symbol,self.symbol2,self.symbol3]\n",
    "        stocks = yf.download(ticker)\n",
    "        close = stocks.loc[:,\"Close\"].copy()\n",
    "        normClose=close.div(close.iloc[0]).mul(100)\n",
    "        normClose.plot(figsize=(15,8), fontsize=12)\n",
    "        plt.legend(fontsize=12)\n",
    "        return plt.show()\n",
    "        \n",
    "        "
   ]
  },
  {
   "cell_type": "code",
   "execution_count": 13,
   "id": "a3778185-f47a-4426-b6ea-38d4dcc0a168",
   "metadata": {},
   "outputs": [
    {
     "ename": "AttributeError",
     "evalue": "'str' object has no attribute 'symbol'",
     "output_type": "error",
     "traceback": [
      "\u001b[0;31m---------------------------------------------------------------------------\u001b[0m",
      "\u001b[0;31mAttributeError\u001b[0m                            Traceback (most recent call last)",
      "Cell \u001b[0;32mIn[13], line 1\u001b[0m\n\u001b[0;32m----> 1\u001b[0m tester2\u001b[38;5;241m=\u001b[39mSMABacktester\u001b[38;5;241m.\u001b[39mcompare_stocks(\u001b[38;5;124m\"\u001b[39m\u001b[38;5;124mNVDA\u001b[39m\u001b[38;5;124m\"\u001b[39m,\u001b[38;5;124m\"\u001b[39m\u001b[38;5;124mAMD\u001b[39m\u001b[38;5;124m\"\u001b[39m,\u001b[38;5;124m\"\u001b[39m\u001b[38;5;124mIONQ\u001b[39m\u001b[38;5;124m\"\u001b[39m)\n",
      "Cell \u001b[0;32mIn[12], line 55\u001b[0m, in \u001b[0;36mSMABacktester.compare_stocks\u001b[0;34m(self, self2, self3)\u001b[0m\n\u001b[1;32m     54\u001b[0m \u001b[38;5;28;01mdef\u001b[39;00m \u001b[38;5;21mcompare_stocks\u001b[39m(\u001b[38;5;28mself\u001b[39m,self2,self3):\n\u001b[0;32m---> 55\u001b[0m     ticker \u001b[38;5;241m=\u001b[39m [\u001b[38;5;28mself\u001b[39m\u001b[38;5;241m.\u001b[39msymbol,\u001b[38;5;28mself\u001b[39m\u001b[38;5;241m.\u001b[39msymbol2,\u001b[38;5;28mself\u001b[39m\u001b[38;5;241m.\u001b[39msymbol3]\n\u001b[1;32m     56\u001b[0m     stocks \u001b[38;5;241m=\u001b[39m yf\u001b[38;5;241m.\u001b[39mdownload(ticker)\n\u001b[1;32m     57\u001b[0m     close \u001b[38;5;241m=\u001b[39m stocks\u001b[38;5;241m.\u001b[39mloc[:,\u001b[38;5;124m\"\u001b[39m\u001b[38;5;124mClose\u001b[39m\u001b[38;5;124m\"\u001b[39m]\u001b[38;5;241m.\u001b[39mcopy()\n",
      "\u001b[0;31mAttributeError\u001b[0m: 'str' object has no attribute 'symbol'"
     ]
    }
   ],
   "source": [
    "tester2=SMABacktester.compare_stocks(\"NVDA\",\"AMD\",\"IONQ\")"
   ]
  },
  {
   "cell_type": "code",
   "execution_count": null,
   "id": "ff72e50c-194f-49bb-b8a4-45029f4bb0d8",
   "metadata": {},
   "outputs": [],
   "source": []
  }
 ],
 "metadata": {
  "kernelspec": {
   "display_name": "Python 3 (ipykernel)",
   "language": "python",
   "name": "python3"
  },
  "language_info": {
   "codemirror_mode": {
    "name": "ipython",
    "version": 3
   },
   "file_extension": ".py",
   "mimetype": "text/x-python",
   "name": "python",
   "nbconvert_exporter": "python",
   "pygments_lexer": "ipython3",
   "version": "3.11.5"
  }
 },
 "nbformat": 4,
 "nbformat_minor": 5
}
