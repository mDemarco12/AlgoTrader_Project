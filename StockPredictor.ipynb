{
 "cells": [
  {
   "cell_type": "code",
   "execution_count": 9,
   "id": "1774b4ce",
   "metadata": {
    "tags": []
   },
   "outputs": [],
   "source": [
    "import streamlit as st\n",
    "from datetime import date\n",
    "\n",
    "import yfinance as yf\n",
    "from prophet import Prophet\n",
    "from prophet.plot import plot_plotly\n",
    "from plotly import graph_objs as go\n",
    "\n",
    "START = \"2020-01-01\"\n",
    "TODAY = date.today().strftime(\"%Y-%m-%d\")\n",
    "\n",
    "st.title(\"Stock Prediction APP\")\n",
    "\n",
    "stocks = (\"IONQ\",\"AMZN\",\"NVDA\",\"AAPL\",\"AMD\")\n",
    "sel_stocks = st.selectbox(\"Select dataset for prediciton\",stocks)\n",
    "\n",
    "n_years = st.slider(\"Years of prediction: \", 1, 4)\n",
    "period = n_years * 365\n",
    "\n",
    " \n"
   ]
  },
  {
   "cell_type": "code",
   "execution_count": null,
   "id": "053d0ee7",
   "metadata": {
    "tags": []
   },
   "outputs": [],
   "source": []
  },
  {
   "cell_type": "code",
   "execution_count": null,
   "id": "f52187d3",
   "metadata": {},
   "outputs": [],
   "source": []
  }
 ],
 "metadata": {
  "kernelspec": {
   "display_name": "Python 3 (ipykernel)",
   "language": "python",
   "name": "python3"
  },
  "language_info": {
   "codemirror_mode": {
    "name": "ipython",
    "version": 3
   },
   "file_extension": ".py",
   "mimetype": "text/x-python",
   "name": "python",
   "nbconvert_exporter": "python",
   "pygments_lexer": "ipython3",
   "version": "3.11.5"
  }
 },
 "nbformat": 4,
 "nbformat_minor": 5
}
